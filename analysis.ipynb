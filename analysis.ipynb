{
 "cells": [
  {
   "cell_type": "code",
   "execution_count": 1,
   "metadata": {
    "collapsed": true
   },
   "outputs": [],
   "source": [
    "import pandas as pd\n",
    "import numpy as np\n",
    "from functools import reduce"
   ]
  },
  {
   "cell_type": "code",
   "execution_count": 2,
   "metadata": {
    "collapsed": true
   },
   "outputs": [],
   "source": [
    "import pandas as pd\n",
    "import numpy as np\n",
    "\n",
    "from preproc_functions import *\n",
    "from constants import *\n"
   ]
  },
  {
   "cell_type": "code",
   "execution_count": 4,
   "metadata": {
    "scrolled": false
   },
   "outputs": [
    {
     "name": "stderr",
     "output_type": "stream",
     "text": [
      "/Users/nabeelnauman/anaconda3/lib/python3.6/site-packages/IPython/core/interactiveshell.py:2698: DtypeWarning: Columns (4,5) have mixed types. Specify dtype option on import or set low_memory=False.\n",
      "  interactivity=interactivity, compiler=compiler, result=result)\n"
     ]
    }
   ],
   "source": [
    "df_proc = pd.read_csv('%s/PROCEDURES_ICD.csv' % MIMIC_3_DIR)\n",
    "df_diag = pd.read_csv('%s/DIAGNOSES_ICD.csv' % MIMIC_3_DIR)\n",
    "\n",
    "df_diag['ABS_CODE'] = df_diag.apply(lambda row: str(reformat(str(row[4]), True)), axis=1)\n",
    "df_proc['ABS_CODE'] = df_proc.apply(lambda row: str(reformat(str(row[4]), False)), axis=1)\n",
    "\n",
    "df_codes = pd.concat([df_diag, df_proc])\n",
    "\n",
    "df_notes = pd.read_csv('%s/NOTEEVENTS.csv' % MIMIC_3_DIR)"
   ]
  },
  {
   "cell_type": "code",
   "execution_count": 15,
   "metadata": {
    "collapsed": true
   },
   "outputs": [],
   "source": [
    "# Only consider discharge summaries:\n",
    "\n",
    "df_notes = df_notes[df_notes['CATEGORY'] == 'Discharge summary']"
   ]
  },
  {
   "cell_type": "code",
   "execution_count": 16,
   "metadata": {
    "collapsed": true
   },
   "outputs": [],
   "source": [
    "# Drop rows with null HADM_IDs\n",
    "\n",
    "df_notes = df_notes.dropna(subset=['HADM_ID'])"
   ]
  },
  {
   "cell_type": "code",
   "execution_count": 17,
   "metadata": {
    "collapsed": true
   },
   "outputs": [],
   "source": [
    "# Convert all IDs to int\n",
    "\n",
    "df_notes['SUBJECT_ID'] = df_notes['SUBJECT_ID'].apply(lambda x: int(x))\n",
    "df_notes['HADM_ID'] = df_notes['HADM_ID'].apply(lambda x: int(x))\n",
    "\n",
    "df_codes['SUBJECT_ID'] = df_codes['SUBJECT_ID'].apply(lambda x: int(x))\n",
    "df_codes['HADM_ID'] = df_codes['HADM_ID'].apply(lambda x: int(x))\n"
   ]
  },
  {
   "cell_type": "code",
   "execution_count": 18,
   "metadata": {
    "collapsed": true
   },
   "outputs": [],
   "source": [
    "# Some non-aggressive preprocessing. More preprocessing will be done by model tokenizer.\n",
    "\n",
    "df_notes = preproc(df_notes)"
   ]
  },
  {
   "cell_type": "code",
   "execution_count": 19,
   "metadata": {
    "collapsed": true
   },
   "outputs": [],
   "source": [
    "# Append all notes and addenda\n",
    "\n",
    "df_notes_grouped = df_notes.groupby(by=['HADM_ID','SUBJECT_ID'], as_index=False).agg({'TEXT': lambda x: ' '.join(x)})"
   ]
  },
  {
   "cell_type": "code",
   "execution_count": 20,
   "metadata": {},
   "outputs": [
    {
     "data": {
      "text/html": [
       "<div>\n",
       "<style scoped>\n",
       "    .dataframe tbody tr th:only-of-type {\n",
       "        vertical-align: middle;\n",
       "    }\n",
       "\n",
       "    .dataframe tbody tr th {\n",
       "        vertical-align: top;\n",
       "    }\n",
       "\n",
       "    .dataframe thead th {\n",
       "        text-align: right;\n",
       "    }\n",
       "</style>\n",
       "<table border=\"1\" class=\"dataframe\">\n",
       "  <thead>\n",
       "    <tr style=\"text-align: right;\">\n",
       "      <th></th>\n",
       "      <th>ROW_ID</th>\n",
       "      <th>SUBJECT_ID</th>\n",
       "      <th>HADM_ID</th>\n",
       "      <th>SEQ_NUM</th>\n",
       "      <th>ICD9_CODE</th>\n",
       "      <th>ABS_CODE</th>\n",
       "    </tr>\n",
       "  </thead>\n",
       "  <tbody>\n",
       "    <tr>\n",
       "      <th>0</th>\n",
       "      <td>1297</td>\n",
       "      <td>109</td>\n",
       "      <td>172335</td>\n",
       "      <td>1.0</td>\n",
       "      <td>40301</td>\n",
       "      <td>403.01</td>\n",
       "    </tr>\n",
       "    <tr>\n",
       "      <th>1</th>\n",
       "      <td>1298</td>\n",
       "      <td>109</td>\n",
       "      <td>172335</td>\n",
       "      <td>2.0</td>\n",
       "      <td>486</td>\n",
       "      <td>486</td>\n",
       "    </tr>\n",
       "    <tr>\n",
       "      <th>2</th>\n",
       "      <td>1299</td>\n",
       "      <td>109</td>\n",
       "      <td>172335</td>\n",
       "      <td>3.0</td>\n",
       "      <td>58281</td>\n",
       "      <td>582.81</td>\n",
       "    </tr>\n",
       "    <tr>\n",
       "      <th>3</th>\n",
       "      <td>1300</td>\n",
       "      <td>109</td>\n",
       "      <td>172335</td>\n",
       "      <td>4.0</td>\n",
       "      <td>5855</td>\n",
       "      <td>585.5</td>\n",
       "    </tr>\n",
       "    <tr>\n",
       "      <th>4</th>\n",
       "      <td>1301</td>\n",
       "      <td>109</td>\n",
       "      <td>172335</td>\n",
       "      <td>5.0</td>\n",
       "      <td>4254</td>\n",
       "      <td>425.4</td>\n",
       "    </tr>\n",
       "  </tbody>\n",
       "</table>\n",
       "</div>"
      ],
      "text/plain": [
       "   ROW_ID  SUBJECT_ID  HADM_ID  SEQ_NUM ICD9_CODE ABS_CODE\n",
       "0    1297         109   172335      1.0     40301   403.01\n",
       "1    1298         109   172335      2.0       486      486\n",
       "2    1299         109   172335      3.0     58281   582.81\n",
       "3    1300         109   172335      4.0      5855    585.5\n",
       "4    1301         109   172335      5.0      4254    425.4"
      ]
     },
     "execution_count": 20,
     "metadata": {},
     "output_type": "execute_result"
    }
   ],
   "source": [
    "df_codes.head()"
   ]
  },
  {
   "cell_type": "code",
   "execution_count": 21,
   "metadata": {
    "collapsed": true
   },
   "outputs": [],
   "source": [
    "# Left join the two dataframes such that we discard any HADM_IDs not appearing in df_notes\n",
    "\n",
    "merged = pd.merge(df_notes_grouped, df_codes, on='HADM_ID', how='left')\n"
   ]
  },
  {
   "cell_type": "code",
   "execution_count": 22,
   "metadata": {
    "collapsed": true
   },
   "outputs": [],
   "source": [
    "# Group by HADM_ID and SUBJECT_ID, aggregating on the ICD9_codes and appending them to a list.\n",
    "\n",
    "grouped = merged.groupby(by=['HADM_ID', 'SUBJECT_ID_x'], as_index=False).agg({'ABS_CODE': lambda x: list(x),\n",
    "                                                                              'TEXT': 'first'})"
   ]
  },
  {
   "cell_type": "code",
   "execution_count": 23,
   "metadata": {
    "collapsed": true
   },
   "outputs": [],
   "source": [
    "# Just some cosmetic stuff\n",
    "\n",
    "grouped = grouped.sort_values(['SUBJECT_ID_x', 'HADM_ID'])\n",
    "grouped = grouped.rename(columns={'ABS_CODE': 'LABELS', 'SUBJECT_ID_x': 'SUBJECT_ID'})\n",
    "grouped = grouped[['SUBJECT_ID', 'HADM_ID', 'TEXT', 'LABELS']]\n",
    "grouped = grouped.reset_index(drop=True)"
   ]
  },
  {
   "cell_type": "code",
   "execution_count": 26,
   "metadata": {
    "collapsed": true
   },
   "outputs": [],
   "source": [
    "# Convert labels to a semi-colon seperated string.\n",
    "\n",
    "grouped['LABELS'] = grouped['LABELS'].apply(lambda x: ';'.join(x))"
   ]
  },
  {
   "cell_type": "code",
   "execution_count": 2,
   "metadata": {},
   "outputs": [],
   "source": [
    "import pandas as pd\n",
    "\n",
    "df = pd.read_pickle('dataframes/df_data.pkl')"
   ]
  },
  {
   "cell_type": "code",
   "execution_count": 3,
   "metadata": {},
   "outputs": [
    {
     "data": {
      "text/html": [
       "<div>\n",
       "<style scoped>\n",
       "    .dataframe tbody tr th:only-of-type {\n",
       "        vertical-align: middle;\n",
       "    }\n",
       "\n",
       "    .dataframe tbody tr th {\n",
       "        vertical-align: top;\n",
       "    }\n",
       "\n",
       "    .dataframe thead th {\n",
       "        text-align: right;\n",
       "    }\n",
       "</style>\n",
       "<table border=\"1\" class=\"dataframe\">\n",
       "  <thead>\n",
       "    <tr style=\"text-align: right;\">\n",
       "      <th></th>\n",
       "      <th>SUBJECT_ID</th>\n",
       "      <th>HADM_ID</th>\n",
       "      <th>TEXT</th>\n",
       "      <th>LABELS</th>\n",
       "    </tr>\n",
       "  </thead>\n",
       "  <tbody>\n",
       "    <tr>\n",
       "      <th>0</th>\n",
       "      <td>3</td>\n",
       "      <td>145834</td>\n",
       "      <td>Admission Date:       Discharge Date:    Date ...</td>\n",
       "      <td>038.9;785.59;584.9;427.5;410.71;428.0;682.6;42...</td>\n",
       "    </tr>\n",
       "    <tr>\n",
       "      <th>1</th>\n",
       "      <td>4</td>\n",
       "      <td>185777</td>\n",
       "      <td>Admission Date:       Discharge Date:    Date ...</td>\n",
       "      <td>042;136.3;799.4;276.3;790.7;571.5;041.11;V09.0...</td>\n",
       "    </tr>\n",
       "    <tr>\n",
       "      <th>2</th>\n",
       "      <td>6</td>\n",
       "      <td>107064</td>\n",
       "      <td>Admission Date:         Discharge Date:    Dat...</td>\n",
       "      <td>403.91;444.0;997.2;276.6;276.7;285.9;275.3;V15...</td>\n",
       "    </tr>\n",
       "    <tr>\n",
       "      <th>3</th>\n",
       "      <td>9</td>\n",
       "      <td>150750</td>\n",
       "      <td>Admission Date:         Discharge Date:   Date...</td>\n",
       "      <td>431;507.0;428.0;584.9;276.5;401.9;96.72;96.04</td>\n",
       "    </tr>\n",
       "    <tr>\n",
       "      <th>4</th>\n",
       "      <td>10</td>\n",
       "      <td>184167</td>\n",
       "      <td>Admission Date:         Discharge Date:    Dat...</td>\n",
       "      <td>V30.00;774.2;765.25;765.15;V29.0;99.83;99.15;96.6</td>\n",
       "    </tr>\n",
       "  </tbody>\n",
       "</table>\n",
       "</div>"
      ],
      "text/plain": [
       "   SUBJECT_ID  HADM_ID                                               TEXT  \\\n",
       "0           3   145834  Admission Date:       Discharge Date:    Date ...   \n",
       "1           4   185777  Admission Date:       Discharge Date:    Date ...   \n",
       "2           6   107064  Admission Date:         Discharge Date:    Dat...   \n",
       "3           9   150750  Admission Date:         Discharge Date:   Date...   \n",
       "4          10   184167  Admission Date:         Discharge Date:    Dat...   \n",
       "\n",
       "                                              LABELS  \n",
       "0  038.9;785.59;584.9;427.5;410.71;428.0;682.6;42...  \n",
       "1  042;136.3;799.4;276.3;790.7;571.5;041.11;V09.0...  \n",
       "2  403.91;444.0;997.2;276.6;276.7;285.9;275.3;V15...  \n",
       "3      431;507.0;428.0;584.9;276.5;401.9;96.72;96.04  \n",
       "4  V30.00;774.2;765.25;765.15;V29.0;99.83;99.15;96.6  "
      ]
     },
     "execution_count": 3,
     "metadata": {},
     "output_type": "execute_result"
    }
   ],
   "source": [
    "df.head()"
   ]
  },
  {
   "cell_type": "code",
   "execution_count": null,
   "metadata": {
    "collapsed": true
   },
   "outputs": [],
   "source": []
  }
 ],
 "metadata": {
  "hide_input": false,
  "kernelspec": {
   "display_name": "Python 3",
   "language": "python",
   "name": "python3"
  },
  "language_info": {
   "codemirror_mode": {
    "name": "ipython",
    "version": 3
   },
   "file_extension": ".py",
   "mimetype": "text/x-python",
   "name": "python",
   "nbconvert_exporter": "python",
   "pygments_lexer": "ipython3",
   "version": "3.6.7"
  },
  "varInspector": {
   "cols": {
    "lenName": 16,
    "lenType": 16,
    "lenVar": 40
   },
   "kernels_config": {
    "python": {
     "delete_cmd_postfix": "",
     "delete_cmd_prefix": "del ",
     "library": "var_list.py",
     "varRefreshCmd": "print(var_dic_list())"
    },
    "r": {
     "delete_cmd_postfix": ") ",
     "delete_cmd_prefix": "rm(",
     "library": "var_list.r",
     "varRefreshCmd": "cat(var_dic_list()) "
    }
   },
   "types_to_exclude": [
    "module",
    "function",
    "builtin_function_or_method",
    "instance",
    "_Feature"
   ],
   "window_display": false
  }
 },
 "nbformat": 4,
 "nbformat_minor": 2
}
